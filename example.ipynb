{
 "cells": [
  {
   "cell_type": "code",
   "execution_count": 1,
   "metadata": {},
   "outputs": [
    {
     "ename": "SyntaxError",
     "evalue": "invalid syntax. Perhaps you forgot a comma? (urdu.py, line 95)",
     "output_type": "error",
     "traceback": [
      "Traceback \u001b[1;36m(most recent call last)\u001b[0m:\n",
      "\u001b[0m  File \u001b[0;32mc:\\Users\\Owner\\anaconda3\\envs\\art10\\lib\\site-packages\\IPython\\core\\interactiveshell.py:3553\u001b[0m in \u001b[0;35mrun_code\u001b[0m\n    exec(code_obj, self.user_global_ns, self.user_ns)\u001b[0m\n",
      "\u001b[0m  Cell \u001b[0;32mIn[1], line 1\u001b[0m\n    import sign_language_translator as slt\u001b[0m\n",
      "\u001b[0m  File \u001b[0;32mc:\\Users\\Owner\\anaconda3\\envs\\art10\\lib\\site-packages\\sign_language_translator\\__init__.py:66\u001b[0m\n    from sign_language_translator import config, languages, models, text, utils, vision\u001b[0m\n",
      "\u001b[0m  File \u001b[0;32mc:\\Users\\Owner\\anaconda3\\envs\\art10\\lib\\site-packages\\sign_language_translator\\languages\\__init__.py:1\u001b[0m\n    from sign_language_translator.languages import sign, text\u001b[0m\n",
      "\u001b[1;36m  File \u001b[1;32mc:\\Users\\Owner\\anaconda3\\envs\\art10\\lib\\site-packages\\sign_language_translator\\languages\\text\\__init__.py:5\u001b[1;36m\n\u001b[1;33m    from sign_language_translator.languages.text.urdu import Urdu\u001b[1;36m\n",
      "\u001b[1;36m  File \u001b[1;32mc:\\Users\\Owner\\anaconda3\\envs\\art10\\lib\\site-packages\\sign_language_translator\\languages\\text\\urdu.py:95\u001b[1;36m\u001b[0m\n\u001b[1;33m    Rule.from_pattern(r\".*\", Tags.NAME, 2)\u001b[0m\n\u001b[1;37m    ^\u001b[0m\n\u001b[1;31mSyntaxError\u001b[0m\u001b[1;31m:\u001b[0m invalid syntax. Perhaps you forgot a comma?\n"
     ]
    }
   ],
   "source": [
    "import sign_language_translator as slt\n",
    "import os\n",
    "\n",
    "# print(slt.ModelCodes)\n",
    "# model = slt.get_model(\"transformer-text-to-sign\")\n",
    "model = slt.models.ConcatenativeSynthesis(\n",
    "   text_language = \"urdu\", # or object of any child of slt.languages.text.text_language.TextLanguage class\n",
    "   sign_language = \"pakistan-sign-language\", # or object of any child of slt.languages.sign.sign_language.SignLanguage class\n",
    "   sign_format = \"video\" # or object of any child of slt.vision.sign.Sign class\n",
    ")\n",
    "\n",
    " "
   ]
  },
  {
   "cell_type": "markdown",
   "metadata": {},
   "source": []
  },
  {
   "cell_type": "code",
   "execution_count": null,
   "metadata": {},
   "outputs": [
    {
     "name": "stdout",
     "output_type": "stream",
     "text": [
      "tag Tags.ACRONYM\n",
      "allowed tags {Tags.ACRONYM, Tags.NAME}\n",
      "tag Tags.ACRONYM\n",
      "allowed tags {Tags.ACRONYM, Tags.NAME}\n",
      "tag Tags.ACRONYM\n",
      "allowed tags {Tags.NAME}\n"
     ]
    },
    {
     "ename": "ValueError",
     "evalue": "No PakistanSL sign could be inferred for token = 'КОВИ'.",
     "output_type": "error",
     "traceback": [
      "\u001b[1;31m---------------------------------------------------------------------------\u001b[0m",
      "\u001b[1;31mValueError\u001b[0m                                Traceback (most recent call last)",
      "Cell \u001b[1;32mIn[3], line 1\u001b[0m\n\u001b[1;32m----> 1\u001b[0m sign_language_sentence \u001b[38;5;241m=\u001b[39m \u001b[43mmodel\u001b[49m\u001b[38;5;241;43m.\u001b[39;49m\u001b[43mtranslate\u001b[49m\u001b[43m(\u001b[49m\u001b[38;5;124;43m\"\u001b[39;49m\u001b[38;5;124;43mКОВИ\u001b[39;49m\u001b[38;5;124;43m\"\u001b[39;49m\u001b[43m)\u001b[49m\n\u001b[0;32m      2\u001b[0m sign_language_sentence\u001b[38;5;241m.\u001b[39mshow()\n\u001b[0;32m      3\u001b[0m \u001b[38;5;28;01mif\u001b[39;00m os\u001b[38;5;241m.\u001b[39mpath\u001b[38;5;241m.\u001b[39mexists(\u001b[38;5;124m\"\u001b[39m\u001b[38;5;124moutput.mp3\u001b[39m\u001b[38;5;124m\"\u001b[39m):\n",
      "File \u001b[1;32mc:\\Users\\Owner\\anaconda3\\envs\\art10\\lib\\site-packages\\sign_language_translator\\models\\text_to_sign\\concatenative_synthesis.py:95\u001b[0m, in \u001b[0;36mConcatenativeSynthesis.translate\u001b[1;34m(self, text, *args, **kwargs)\u001b[0m\n\u001b[0;32m     90\u001b[0m     tags \u001b[38;5;241m=\u001b[39m \u001b[38;5;28mself\u001b[39m\u001b[38;5;241m.\u001b[39mtext_language\u001b[38;5;241m.\u001b[39mget_tags(tokens)\n\u001b[0;32m     92\u001b[0m     tokens, tags, contexts \u001b[38;5;241m=\u001b[39m \u001b[38;5;28mself\u001b[39m\u001b[38;5;241m.\u001b[39msign_language\u001b[38;5;241m.\u001b[39mrestructure_sentence(\n\u001b[0;32m     93\u001b[0m         tokens, tags\u001b[38;5;241m=\u001b[39mtags\n\u001b[0;32m     94\u001b[0m     )\n\u001b[1;32m---> 95\u001b[0m     sign_dicts \u001b[38;5;241m=\u001b[39m \u001b[38;5;28;43mself\u001b[39;49m\u001b[38;5;241;43m.\u001b[39;49m\u001b[43msign_language\u001b[49m\u001b[38;5;241;43m.\u001b[39;49m\u001b[43mtokens_to_sign_dicts\u001b[49m\u001b[43m(\u001b[49m\n\u001b[0;32m     96\u001b[0m \u001b[43m        \u001b[49m\u001b[43mtokens\u001b[49m\u001b[43m,\u001b[49m\u001b[43m \u001b[49m\u001b[43mtags\u001b[49m\u001b[38;5;241;43m=\u001b[39;49m\u001b[43mtags\u001b[49m\u001b[43m,\u001b[49m\u001b[43m \u001b[49m\u001b[43mcontexts\u001b[49m\u001b[38;5;241;43m=\u001b[39;49m\u001b[43mcontexts\u001b[49m\n\u001b[0;32m     97\u001b[0m \u001b[43m    \u001b[49m\u001b[43m)\u001b[49m\n\u001b[0;32m     99\u001b[0m     video_labels\u001b[38;5;241m.\u001b[39mextend(\n\u001b[0;32m    100\u001b[0m         [\n\u001b[0;32m    101\u001b[0m             label\n\u001b[1;32m   (...)\u001b[0m\n\u001b[0;32m    108\u001b[0m         ]\n\u001b[0;32m    109\u001b[0m     )\n\u001b[0;32m    111\u001b[0m signs \u001b[38;5;241m=\u001b[39m \u001b[38;5;28mself\u001b[39m\u001b[38;5;241m.\u001b[39m_map_labels_to_sign(video_labels)\n",
      "File \u001b[1;32mc:\\Users\\Owner\\anaconda3\\envs\\art10\\lib\\site-packages\\sign_language_translator\\languages\\sign\\pakistan_sign_language.py:83\u001b[0m, in \u001b[0;36mPakistanSignLanguage.tokens_to_sign_dicts\u001b[1;34m(self, tokens, tags, contexts)\u001b[0m\n\u001b[0;32m     80\u001b[0m     contexts \u001b[38;5;241m=\u001b[39m [\u001b[38;5;28;01mNone\u001b[39;00m \u001b[38;5;28;01mfor\u001b[39;00m _ \u001b[38;5;129;01min\u001b[39;00m tokens]\n\u001b[0;32m     82\u001b[0m \u001b[38;5;66;03m# map tokens to signs\u001b[39;00m\n\u001b[1;32m---> 83\u001b[0m signs \u001b[38;5;241m=\u001b[39m [\n\u001b[0;32m     84\u001b[0m     sign_dict\n\u001b[0;32m     85\u001b[0m     \u001b[38;5;28;01mfor\u001b[39;00m token, tag, context \u001b[38;5;129;01min\u001b[39;00m \u001b[38;5;28mzip\u001b[39m(tokens, tags, contexts)\n\u001b[0;32m     86\u001b[0m     \u001b[38;5;28;01mfor\u001b[39;00m sign_dict \u001b[38;5;129;01min\u001b[39;00m \u001b[38;5;28mself\u001b[39m\u001b[38;5;241m.\u001b[39m_apply_rules(token, tag, context)\n\u001b[0;32m     87\u001b[0m ]\n\u001b[0;32m     89\u001b[0m \u001b[38;5;28;01mreturn\u001b[39;00m signs\n",
      "File \u001b[1;32mc:\\Users\\Owner\\anaconda3\\envs\\art10\\lib\\site-packages\\sign_language_translator\\languages\\sign\\pakistan_sign_language.py:86\u001b[0m, in \u001b[0;36m<listcomp>\u001b[1;34m(.0)\u001b[0m\n\u001b[0;32m     80\u001b[0m     contexts \u001b[38;5;241m=\u001b[39m [\u001b[38;5;28;01mNone\u001b[39;00m \u001b[38;5;28;01mfor\u001b[39;00m _ \u001b[38;5;129;01min\u001b[39;00m tokens]\n\u001b[0;32m     82\u001b[0m \u001b[38;5;66;03m# map tokens to signs\u001b[39;00m\n\u001b[0;32m     83\u001b[0m signs \u001b[38;5;241m=\u001b[39m [\n\u001b[0;32m     84\u001b[0m     sign_dict\n\u001b[0;32m     85\u001b[0m     \u001b[38;5;28;01mfor\u001b[39;00m token, tag, context \u001b[38;5;129;01min\u001b[39;00m \u001b[38;5;28mzip\u001b[39m(tokens, tags, contexts)\n\u001b[1;32m---> 86\u001b[0m     \u001b[38;5;28;01mfor\u001b[39;00m sign_dict \u001b[38;5;129;01min\u001b[39;00m \u001b[38;5;28;43mself\u001b[39;49m\u001b[38;5;241;43m.\u001b[39;49m\u001b[43m_apply_rules\u001b[49m\u001b[43m(\u001b[49m\u001b[43mtoken\u001b[49m\u001b[43m,\u001b[49m\u001b[43m \u001b[49m\u001b[43mtag\u001b[49m\u001b[43m,\u001b[49m\u001b[43m \u001b[49m\u001b[43mcontext\u001b[49m\u001b[43m)\u001b[49m\n\u001b[0;32m     87\u001b[0m ]\n\u001b[0;32m     89\u001b[0m \u001b[38;5;28;01mreturn\u001b[39;00m signs\n",
      "File \u001b[1;32mc:\\Users\\Owner\\anaconda3\\envs\\art10\\lib\\site-packages\\sign_language_translator\\languages\\sign\\pakistan_sign_language.py:124\u001b[0m, in \u001b[0;36mPakistanSignLanguage._apply_rules\u001b[1;34m(self, token, tag, context)\u001b[0m\n\u001b[0;32m    119\u001b[0m     \u001b[38;5;28;01mraise\u001b[39;00m \u001b[38;5;167;01mValueError\u001b[39;00m(\n\u001b[0;32m    120\u001b[0m         \u001b[38;5;124mf\u001b[39m\u001b[38;5;124m\"\u001b[39m\u001b[38;5;124mToken \u001b[39m\u001b[38;5;124m'\u001b[39m\u001b[38;5;132;01m{\u001b[39;00mtoken\u001b[38;5;132;01m}\u001b[39;00m\u001b[38;5;124m'\u001b[39m\u001b[38;5;124m is ambiguous.\u001b[39m\u001b[38;5;124m\"\u001b[39m\n\u001b[0;32m    121\u001b[0m         \u001b[38;5;241m+\u001b[39m \u001b[38;5;124mf\u001b[39m\u001b[38;5;124m\"\u001b[39m\u001b[38;5;124mTry from \u001b[39m\u001b[38;5;132;01m{\u001b[39;00m\u001b[38;5;28mself\u001b[39m\u001b[38;5;241m.\u001b[39mvocab\u001b[38;5;241m.\u001b[39mambiguous_to_unambiguous\u001b[38;5;241m.\u001b[39mget(token,[])\u001b[38;5;132;01m}\u001b[39;00m\u001b[38;5;124m.\u001b[39m\u001b[38;5;124m\"\u001b[39m\n\u001b[0;32m    122\u001b[0m     )\n\u001b[0;32m    123\u001b[0m \u001b[38;5;28;01mif\u001b[39;00m sign \u001b[38;5;129;01mis\u001b[39;00m \u001b[38;5;28;01mNone\u001b[39;00m:\n\u001b[1;32m--> 124\u001b[0m     \u001b[38;5;28;01mraise\u001b[39;00m \u001b[38;5;167;01mValueError\u001b[39;00m(\u001b[38;5;124mf\u001b[39m\u001b[38;5;124m\"\u001b[39m\u001b[38;5;124mNo PakistanSL sign could be inferred for \u001b[39m\u001b[38;5;132;01m{\u001b[39;00mtoken\u001b[38;5;250m \u001b[39m\u001b[38;5;132;01m= }\u001b[39;00m\u001b[38;5;124m.\u001b[39m\u001b[38;5;124m\"\u001b[39m)\n\u001b[0;32m    126\u001b[0m \u001b[38;5;28;01mreturn\u001b[39;00m sign\n",
      "\u001b[1;31mValueError\u001b[0m: No PakistanSL sign could be inferred for token = 'КОВИ'."
     ]
    }
   ],
   "source": [
    "sign_language_sentence = model.translate(\"КОВИ\")\n",
    "sign_language_sentence.show()\n",
    "if os.path.exists(\"output.mp3\"):\n",
    "   os.remove(\"output.mp3\") \n",
    "sign_language_sentence.save(\"output.mp3\", оverwrite=True) "
   ]
  }
 ],
 "metadata": {
  "kernelspec": {
   "display_name": "art10",
   "language": "python",
   "name": "python3"
  },
  "language_info": {
   "codemirror_mode": {
    "name": "ipython",
    "version": 3
   },
   "file_extension": ".py",
   "mimetype": "text/x-python",
   "name": "python",
   "nbconvert_exporter": "python",
   "pygments_lexer": "ipython3",
   "version": "3.10.13"
  }
 },
 "nbformat": 4,
 "nbformat_minor": 2
}
